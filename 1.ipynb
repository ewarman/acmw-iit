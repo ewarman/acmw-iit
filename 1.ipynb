{
 "cells": [
  {
   "cell_type": "code",
   "execution_count": 19,
   "metadata": {
    "collapsed": false
   },
   "outputs": [
    {
     "name": "stdout",
     "output_type": "stream",
     "text": [
      "Time: 1.0592319965362549\n",
      "Records Written: 5\n",
      "{'Symbol': 'ABELI', 'Family': 'Caprifoliaceae', 'Common Name': 'abelia', 'Synonym Symbol': '', 'Scientific Name with Author': 'Abelia R. Br.'}\n"
     ]
    }
   ],
   "source": [
    "import csv\n",
    "import time\n",
    "        \n",
    "plants = []\n",
    "start = time.time()\n",
    "with open(\"USDA_PLANTS.csv\",'rt',encoding='ISO-8859-1') as file:\n",
    "    reader = csv.DictReader(file)\n",
    "    for row in reader:\n",
    "        plants.append(row)\n",
    "print('Time:',time.time()-start)\n",
    "print('Records Written:',len(plants[0]))\n",
    "print(plants[0])"
   ]
  },
  {
   "cell_type": "code",
   "execution_count": 17,
   "metadata": {
    "collapsed": false
   },
   "outputs": [],
   "source": [
    "import sqlite3\n",
    "\n",
    "start = time.time()\n",
    "conn = sqlite3.connect('USDA_PLANTS.db')\n",
    "c = conn.cursor()\n",
    "c.execute('''CREATE TABLE plants\n",
    "                (symbol text, family text, name text, synonym text, sname text)''')\n",
    "with open(\"USDA_PLANTS.csv\",'rt',encoding='ISO-8859-1') as file:\n",
    "    reader = csv.DictReader(file)\n",
    "    for row in reader:\n",
    "        insert = \"INSERT INTO plants VALUES ('{0}','{1}','{2}','{3}','{4}')\".format(\n",
    "            row['Symbol'],\n",
    "            row['Family'],\n",
    "            row['Common Name'],\n",
    "            row['Synonym Symbol'], \n",
    "            row['Scientific Name With Author'])\n",
    "        c.execute(insert)\n",
    "    conn.commit()\n",
    "    conn.close()\n"
   ]
  }
 ],
 "metadata": {
  "kernelspec": {
   "display_name": "Python 3",
   "language": "python",
   "name": "python3"
  },
  "language_info": {
   "codemirror_mode": {
    "name": "ipython",
    "version": 3
   },
   "file_extension": ".py",
   "mimetype": "text/x-python",
   "name": "python",
   "nbconvert_exporter": "python",
   "pygments_lexer": "ipython3",
   "version": "3.5.1"
  }
 },
 "nbformat": 4,
 "nbformat_minor": 0
}
